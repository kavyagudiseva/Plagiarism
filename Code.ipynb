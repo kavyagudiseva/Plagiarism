{
 "cells": [
  {
   "cell_type": "code",
   "execution_count": 1,
   "id": "97f6702b",
   "metadata": {},
   "outputs": [
    {
     "name": "stdout",
     "output_type": "stream",
     "text": [
      "enter text 1:\n",
      "Rationalising\n",
      "enter text 2:\n",
      "DeRationalising\n",
      "Similarity ratio: 0.0\n"
     ]
    }
   ],
   "source": [
    "import difflib\n",
    "\n",
    "def check_plagiarism(text1, text2):\n",
    "    \n",
    "    lines1 = text1.splitlines()\n",
    "    lines2 = text2.splitlines()\n",
    "\n",
    "    \n",
    "    similarity = difflib.SequenceMatcher(None, lines1, lines2).ratio()\n",
    "\n",
    "    return similarity\n",
    "\n",
    "print(\"enter text 1:\")\n",
    "text1 = input(\"\")\n",
    "print(\"enter text 2:\")\n",
    "text2 = input(\"\")\n",
    "\n",
    "similarity_ratio = check_plagiarism(text1, text2)\n",
    "print(f\"Similarity ratio: {similarity_ratio}\")"
   ]
  },
  {
   "cell_type": "code",
   "execution_count": null,
   "id": "c76a9c01",
   "metadata": {},
   "outputs": [],
   "source": []
  }
 ],
 "metadata": {
  "kernelspec": {
   "display_name": "Python 3 (ipykernel)",
   "language": "python",
   "name": "python3"
  },
  "language_info": {
   "codemirror_mode": {
    "name": "ipython",
    "version": 3
   },
   "file_extension": ".py",
   "mimetype": "text/x-python",
   "name": "python",
   "nbconvert_exporter": "python",
   "pygments_lexer": "ipython3",
   "version": "3.10.9"
  }
 },
 "nbformat": 4,
 "nbformat_minor": 5
}
